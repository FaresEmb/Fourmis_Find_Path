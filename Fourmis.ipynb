{
 "cells": [
  {
   "cell_type": "markdown",
   "metadata": {},
   "source": [
    "# TP Fourmis (Find Path)"
   ]
  },
  {
   "cell_type": "markdown",
   "metadata": {},
   "source": [
    "#### Importation des librairies"
   ]
  },
  {
   "cell_type": "code",
   "execution_count": 3,
   "metadata": {},
   "outputs": [],
   "source": [
    "import numpy as np"
   ]
  },
  {
   "cell_type": "markdown",
   "metadata": {},
   "source": [
    "#### Initialisation des variables"
   ]
  },
  {
   "cell_type": "code",
   "execution_count": 4,
   "metadata": {},
   "outputs": [],
   "source": [
    "nbr_noeud = 4\n",
    "dist_max = 10\n",
    "Gamma = 0.5\n",
    "Q = 0.5\n",
    "alpha = 1\n",
    "beta = 1\n",
    "rho = 0.5\n",
    "nb_k = 10 # nbr de fourmis\n",
    "start = 0"
   ]
  },
  {
   "cell_type": "markdown",
   "metadata": {},
   "source": [
    "#### Création des matrices"
   ]
  },
  {
   "cell_type": "code",
   "execution_count": 5,
   "metadata": {},
   "outputs": [
    {
     "name": "stdout",
     "output_type": "stream",
     "text": [
      "[[0 3 6 2]\n",
      " [8 0 9 7]\n",
      " [5 8 0 3]\n",
      " [3 9 3 0]]\n"
     ]
    }
   ],
   "source": [
    "mat_dist = np.random.randint(1,dist_max, size = (nbr_noeud,nbr_noeud))\n",
    "np.fill_diagonal(mat_dist, 0)\n",
    "print(mat_dist)"
   ]
  },
  {
   "cell_type": "code",
   "execution_count": 6,
   "metadata": {},
   "outputs": [
    {
     "name": "stderr",
     "output_type": "stream",
     "text": [
      "C:\\ProgramData\\Anaconda3\\lib\\site-packages\\ipykernel_launcher.py:3: RuntimeWarning: divide by zero encountered in true_divide\n",
      "  This is separate from the ipykernel package so we can avoid doing imports until\n"
     ]
    }
   ],
   "source": [
    "mat_phe = np.zeros((nbr_noeud,nbr_noeud))\n",
    "mat_prob = np.zeros((nbr_noeud,nbr_noeud))\n",
    "mat_vis = 1/mat_dist\n",
    "np.fill_diagonal(mat_vis, 0)\n",
    "mat_visited = [[start] for i in range(nb_k)]"
   ]
  },
  {
   "cell_type": "markdown",
   "metadata": {},
   "source": [
    "#### Fonction"
   ]
  },
  {
   "cell_type": "code",
   "execution_count": 7,
   "metadata": {},
   "outputs": [],
   "source": [
    "#Ville n'ayant pas encore été visitée\n",
    "def get_ville(mat_visited, nbr_noeud, k):\n",
    "    all_ville = np.arange(nbr_noeud)\n",
    "    return np.setdiff1d(all_ville, mat_visited[k])"
   ]
  },
  {
   "cell_type": "code",
   "execution_count": 8,
   "metadata": {},
   "outputs": [],
   "source": [
    "def get_probij(i,j,k):\n",
    "    Gamma = np.random.rand()\n",
    "    mat_probij = Gamma + np.power(mat_phe[i,j], alpha) + np.power(mat_vis[i,j], beta)\n",
    "    kallowed = get_ville(mat_visited, nbr_noeud, k)\n",
    "    summ = sum([Gamma + np.power(mat_phe[i,l], alpha) + np.power(mat_vis[i,l], beta) for l in kallowed])\n",
    "    return mat_probij/summ"
   ]
  },
  {
   "cell_type": "code",
   "execution_count": 9,
   "metadata": {},
   "outputs": [],
   "source": [
    "def run(i,k,mat_visited):\n",
    "    while len(mat_visited[k]) != nbr_noeud:\n",
    "        mat_proba = []\n",
    "        villeallowed = get_ville(mat_visited, nbr_noeud, k)\n",
    "        for ville in villeallowed:\n",
    "            mat_proba.append(get_probij(i,ville,k))\n",
    "        nextville = villeallowed[np.argmax(np.asarray(mat_proba))]\n",
    "        mat_visited[k].append(nextville)\n",
    "        #print(mat_visited[k])\n",
    "        #print(mat_proba)\n",
    "        i = nextville\n",
    "    return(mat_visited[k])"
   ]
  },
  {
   "cell_type": "code",
   "execution_count": 10,
   "metadata": {},
   "outputs": [],
   "source": [
    "def longueurtrjt(trajet):\n",
    "    villeav = start\n",
    "    distance = 0\n",
    "    for ville in trajet:\n",
    "        if ville != start:\n",
    "            distance += mat_dist[villeav,ville]\n",
    "            villeav = ville\n",
    "    distance += mat_dist[villeav,start]\n",
    "    return distance"
   ]
  },
  {
   "cell_type": "code",
   "execution_count": 11,
   "metadata": {},
   "outputs": [],
   "source": [
    "def run_all(start, k, mat_phe):\n",
    "    for step in range(nb_k):\n",
    "        mat_visited = [[start] for i in range(nb_k)]\n",
    "        mat_visited[k] = run(start,k,mat_visited)\n",
    "        #print(mat_visited[k])\n",
    "        villeav = start\n",
    "        for ville in mat_visited[k]:\n",
    "            if ville != start:\n",
    "                mat_phe[villeav, ville] += Q/longueurtrjt(mat_visited[k]) \n",
    "                villeav = ville\n",
    "    return mat_phe"
   ]
  },
  {
   "cell_type": "markdown",
   "metadata": {},
   "source": [
    "#### Execution"
   ]
  },
  {
   "cell_type": "code",
   "execution_count": 12,
   "metadata": {},
   "outputs": [
    {
     "name": "stdout",
     "output_type": "stream",
     "text": [
      "[[0.         0.         0.         0.11904762]\n",
      " [0.         0.         0.         0.        ]\n",
      " [0.         0.11904762 0.         0.        ]\n",
      " [0.         0.         0.11904762 0.        ]]\n",
      "[[0.         0.         0.         0.17857143]\n",
      " [0.         0.         0.         0.        ]\n",
      " [0.         0.17857143 0.         0.        ]\n",
      " [0.         0.         0.17857143 0.        ]]\n",
      "[[0.         0.         0.         0.20833333]\n",
      " [0.         0.         0.         0.        ]\n",
      " [0.         0.20833333 0.         0.        ]\n",
      " [0.         0.         0.20833333 0.        ]]\n",
      "[[0.         0.         0.         0.22321429]\n",
      " [0.         0.         0.         0.        ]\n",
      " [0.         0.22321429 0.         0.        ]\n",
      " [0.         0.         0.22321429 0.        ]]\n",
      "[[0.         0.         0.         0.23065476]\n",
      " [0.         0.         0.         0.        ]\n",
      " [0.         0.23065476 0.         0.        ]\n",
      " [0.         0.         0.23065476 0.        ]]\n",
      "[[0.       0.       0.       0.234375]\n",
      " [0.       0.       0.       0.      ]\n",
      " [0.       0.234375 0.       0.      ]\n",
      " [0.       0.       0.234375 0.      ]]\n",
      "[[0.         0.         0.         0.23623512]\n",
      " [0.         0.         0.         0.        ]\n",
      " [0.         0.23623512 0.         0.        ]\n",
      " [0.         0.         0.23623512 0.        ]]\n",
      "[[0.         0.         0.         0.23716518]\n",
      " [0.         0.         0.         0.        ]\n",
      " [0.         0.23716518 0.         0.        ]\n",
      " [0.         0.         0.23716518 0.        ]]\n",
      "[[0.         0.         0.         0.23763021]\n",
      " [0.         0.         0.         0.        ]\n",
      " [0.         0.23763021 0.         0.        ]\n",
      " [0.         0.         0.23763021 0.        ]]\n",
      "[[0.         0.         0.         0.23786272]\n",
      " [0.         0.         0.         0.        ]\n",
      " [0.         0.23786272 0.         0.        ]\n",
      " [0.         0.         0.23786272 0.        ]]\n"
     ]
    }
   ],
   "source": [
    "mat_phe = np.zeros((nbr_noeud,nbr_noeud))\n",
    "for i in range(10):\n",
    "    mat_phe = rho * run_all(start,i, mat_phe)\n",
    "    print(mat_phe)"
   ]
  },
  {
   "cell_type": "code",
   "execution_count": 13,
   "metadata": {},
   "outputs": [
    {
     "name": "stdout",
     "output_type": "stream",
     "text": [
      "pygame 1.9.6\n",
      "Hello from the pygame community. https://www.pygame.org/contribute.html\n"
     ]
    }
   ],
   "source": [
    "import pygame\n",
    "\n",
    "WHITE =     (255, 255, 255)\n",
    "BLUE =      (  0,   0, 255)\n",
    "GREEN =     (  0, 255,   0)\n",
    "RED =       (255,   0,   0)\n",
    "TEXTCOLOR = (  0,   0,  0)\n",
    "(width, height) = (200, 300)\n",
    "\n",
    "running = True"
   ]
  },
  {
   "cell_type": "code",
   "execution_count": 14,
   "metadata": {},
   "outputs": [],
   "source": [
    "def main():\n",
    "    global running, screen\n",
    "\n",
    "    pygame.init()\n",
    "    screen = pygame.display.set_mode((width, height))\n",
    "    pygame.display.set_caption(\"TUFF\")\n",
    "    screen.fill(WHITE)\n",
    "    pygame.display.update()\n",
    "\n",
    "    while running:\n",
    "        ev = pygame.event.get()\n",
    "\n",
    "        for event in ev:\n",
    "\n",
    "            if event.type == pygame.MOUSEBUTTONUP:\n",
    "                drawCircle()\n",
    "                pygame.display.update()\n",
    "\n",
    "            if event.type == pygame.QUIT:\n",
    "                running = False"
   ]
  },
  {
   "cell_type": "code",
   "execution_count": 15,
   "metadata": {},
   "outputs": [],
   "source": [
    "def getPos():\n",
    "    pos = pygame.mouse.get_pos()\n",
    "    return (pos)\n",
    "\n",
    "def drawCircle():\n",
    "    pos=getPos()\n",
    "    pygame.draw.circle(screen, BLUE, (30,30), 20)\n",
    "    pygame.draw.circle(screen, BLUE, (width - 30,30), 20)\n",
    "    pygame.draw.circle(screen, BLUE, (30,int(width/2)), 20)\n",
    "    pygame.draw.circle(screen, BLUE, (width - 30,int(width/2)), 20)\n",
    "    pygame.draw.circle(screen, GREEN, (int(width/2),height - 30), 20)\n",
    "def drawlines():\n",
    "    pygame.draw.line(screen, (0, 0, 255), (int(width/2),int(height/2)), (width - 30,height - 30))"
   ]
  },
  {
   "cell_type": "code",
   "execution_count": null,
   "metadata": {},
   "outputs": [],
   "source": [
    "main()"
   ]
  }
 ],
 "metadata": {
  "kernelspec": {
   "display_name": "Python 3",
   "language": "python",
   "name": "python3"
  },
  "language_info": {
   "codemirror_mode": {
    "name": "ipython",
    "version": 3
   },
   "file_extension": ".py",
   "mimetype": "text/x-python",
   "name": "python",
   "nbconvert_exporter": "python",
   "pygments_lexer": "ipython3",
   "version": "3.7.5"
  }
 },
 "nbformat": 4,
 "nbformat_minor": 2
}
