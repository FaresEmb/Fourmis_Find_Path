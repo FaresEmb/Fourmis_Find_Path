{
 "cells": [
  {
   "cell_type": "code",
   "execution_count": 1,
   "metadata": {},
   "outputs": [],
   "source": [
    "import numpy as np"
   ]
  },
  {
   "cell_type": "code",
   "execution_count": 2,
   "metadata": {},
   "outputs": [],
   "source": [
    "#Init var\n",
    "nbr_noeud = 4\n",
    "dist_max = 10\n",
    "Gamma = 0.5\n",
    "Q = 0.5\n",
    "alpha = 1\n",
    "beta = 1\n",
    "rho = 0.5\n",
    "nb_k = 10 # nbr de fourmis\n",
    "start = 0"
   ]
  },
  {
   "cell_type": "code",
   "execution_count": 3,
   "metadata": {},
   "outputs": [
    {
     "name": "stdout",
     "output_type": "stream",
     "text": [
      "[[0 5 5 1]\n",
      " [3 0 5 9]\n",
      " [6 3 0 3]\n",
      " [8 5 1 0]]\n"
     ]
    }
   ],
   "source": [
    "mat_dist = np.random.randint(1,dist_max, size = (nbr_noeud,nbr_noeud))\n",
    "np.fill_diagonal(mat_dist, 0)\n",
    "print(mat_dist)"
   ]
  },
  {
   "cell_type": "code",
   "execution_count": 4,
   "metadata": {},
   "outputs": [],
   "source": [
    "mat_visited = [[start] for i in range(nb_k)]\n",
    "#Ville n'ayant pas encore été visitée\n",
    "def get_ville(mat_visited, nbr_noeud, k):\n",
    "    all_ville = np.arange(nbr_noeud)\n",
    "    return np.setdiff1d(all_ville, mat_visited[k])\n",
    "\n",
    "ville = get_ville(mat_visited, nbr_noeud,0)"
   ]
  },
  {
   "cell_type": "code",
   "execution_count": 5,
   "metadata": {},
   "outputs": [
    {
     "data": {
      "text/plain": [
       "array([1, 2, 3])"
      ]
     },
     "execution_count": 5,
     "metadata": {},
     "output_type": "execute_result"
    }
   ],
   "source": [
    "ville"
   ]
  },
  {
   "cell_type": "code",
   "execution_count": 6,
   "metadata": {},
   "outputs": [
    {
     "name": "stderr",
     "output_type": "stream",
     "text": [
      "C:\\ProgramData\\Anaconda3\\lib\\site-packages\\ipykernel_launcher.py:3: RuntimeWarning: divide by zero encountered in true_divide\n",
      "  This is separate from the ipykernel package so we can avoid doing imports until\n"
     ]
    }
   ],
   "source": [
    "mat_phe = np.zeros((nbr_noeud,nbr_noeud))\n",
    "mat_prob = np.zeros((nbr_noeud,nbr_noeud))\n",
    "mat_vis = 1/mat_dist\n",
    "np.fill_diagonal(mat_vis, 0)\n",
    "mat_visited = [[start] for i in range(nb_k)]"
   ]
  },
  {
   "cell_type": "code",
   "execution_count": 7,
   "metadata": {},
   "outputs": [
    {
     "data": {
      "text/plain": [
       "0.2549865094927949"
      ]
     },
     "execution_count": 7,
     "metadata": {},
     "output_type": "execute_result"
    }
   ],
   "source": [
    "def get_probij(i,j,k):\n",
    "    Gamma = np.random.rand()\n",
    "    mat_probij = Gamma + np.power(mat_phe[i,j], alpha) + np.power(mat_vis[i,j], beta)\n",
    "    kallowed = get_ville(mat_visited, nbr_noeud, k)\n",
    "    summ = sum([Gamma + np.power(mat_phe[i,l], alpha) + np.power(mat_vis[i,l], beta) for l in kallowed])\n",
    "    return mat_probij/summ\n",
    "get_probij(0,1,0)"
   ]
  },
  {
   "cell_type": "code",
   "execution_count": 8,
   "metadata": {},
   "outputs": [],
   "source": [
    "def run(i,k,mat_visited):\n",
    "    while len(mat_visited[k]) != nbr_noeud:\n",
    "        mat_proba = []\n",
    "        villeallowed = get_ville(mat_visited, nbr_noeud, k)\n",
    "        for ville in villeallowed:\n",
    "            mat_proba.append(get_probij(i,ville,k))\n",
    "        nextville = villeallowed[np.argmax(np.asarray(mat_proba))]\n",
    "        mat_visited[k].append(nextville)\n",
    "        #print(mat_visited[k])\n",
    "        #print(mat_proba)\n",
    "        i = nextville\n",
    "    return(mat_visited[k])"
   ]
  },
  {
   "cell_type": "code",
   "execution_count": 9,
   "metadata": {},
   "outputs": [
    {
     "name": "stdout",
     "output_type": "stream",
     "text": [
      "[0, 3, 2, 1]\n"
     ]
    }
   ],
   "source": [
    "print(run(start,1,mat_visited))"
   ]
  },
  {
   "cell_type": "code",
   "execution_count": 10,
   "metadata": {},
   "outputs": [],
   "source": [
    "def longueurtrjt(trajet):\n",
    "    villeav = start\n",
    "    distance = 0\n",
    "    for ville in trajet:\n",
    "        if ville != start:\n",
    "            distance += mat_dist[villeav,ville]\n",
    "            villeav = ville\n",
    "    distance += mat_dist[villeav,start]\n",
    "    return distance"
   ]
  },
  {
   "cell_type": "code",
   "execution_count": 11,
   "metadata": {},
   "outputs": [],
   "source": [
    "def run_all(start, k, mat_phe):\n",
    "    for step in range(nb_k):\n",
    "        mat_visited = [[start] for i in range(nb_k)]\n",
    "        mat_visited[k] = run(start,k,mat_visited)\n",
    "        #print(mat_visited[k])\n",
    "        villeav = start\n",
    "        for ville in mat_visited[k]:\n",
    "            if ville != start:\n",
    "                mat_phe[villeav, ville] += Q/longueurtrjt(mat_visited[k]) \n",
    "                villeav = ville\n",
    "    return mat_phe"
   ]
  },
  {
   "cell_type": "code",
   "execution_count": 12,
   "metadata": {},
   "outputs": [
    {
     "name": "stdout",
     "output_type": "stream",
     "text": [
      "[[0.     0.     0.     0.3125]\n",
      " [0.     0.     0.     0.    ]\n",
      " [0.     0.3125 0.     0.    ]\n",
      " [0.     0.     0.3125 0.    ]]\n",
      "[[0.         0.11904762 0.         0.15625   ]\n",
      " [0.         0.         0.11904762 0.        ]\n",
      " [0.         0.15625    0.         0.11904762]\n",
      " [0.         0.         0.15625    0.        ]]\n",
      "[[0.         0.05952381 0.         0.390625  ]\n",
      " [0.         0.         0.05952381 0.        ]\n",
      " [0.         0.390625   0.         0.05952381]\n",
      " [0.         0.         0.390625   0.        ]]\n",
      "[[0.        0.0297619 0.        0.5078125]\n",
      " [0.        0.        0.0297619 0.       ]\n",
      " [0.        0.5078125 0.        0.0297619]\n",
      " [0.        0.        0.5078125 0.       ]]\n",
      "[[0.         0.01488095 0.         0.56640625]\n",
      " [0.         0.         0.01488095 0.        ]\n",
      " [0.         0.56640625 0.         0.01488095]\n",
      " [0.         0.         0.56640625 0.        ]]\n",
      "[[0.         0.00744048 0.         0.59570312]\n",
      " [0.         0.         0.00744048 0.        ]\n",
      " [0.         0.59570312 0.         0.00744048]\n",
      " [0.         0.         0.59570312 0.        ]]\n",
      "[[0.         0.00372024 0.         0.61035156]\n",
      " [0.         0.         0.00372024 0.        ]\n",
      " [0.         0.61035156 0.         0.00372024]\n",
      " [0.         0.         0.61035156 0.        ]]\n",
      "[[0.         0.00186012 0.         0.61767578]\n",
      " [0.         0.         0.00186012 0.        ]\n",
      " [0.         0.61767578 0.         0.00186012]\n",
      " [0.         0.         0.61767578 0.        ]]\n",
      "[[0.         0.00093006 0.         0.62133789]\n",
      " [0.         0.         0.00093006 0.        ]\n",
      " [0.         0.62133789 0.         0.00093006]\n",
      " [0.         0.         0.62133789 0.        ]]\n",
      "[[0.00000000e+00 4.65029762e-04 0.00000000e+00 6.23168945e-01]\n",
      " [0.00000000e+00 0.00000000e+00 4.65029762e-04 0.00000000e+00]\n",
      " [0.00000000e+00 6.23168945e-01 0.00000000e+00 4.65029762e-04]\n",
      " [0.00000000e+00 0.00000000e+00 6.23168945e-01 0.00000000e+00]]\n"
     ]
    },
    {
     "name": "stderr",
     "output_type": "stream",
     "text": [
      "C:\\ProgramData\\Anaconda3\\lib\\site-packages\\ipykernel_launcher.py:6: RuntimeWarning: divide by zero encountered in double_scalars\n",
      "  \n"
     ]
    }
   ],
   "source": [
    "mat_phe = np.zeros((nbr_noeud,nbr_noeud))\n",
    "for i in range(10):\n",
    "    mat_phe = rho * run_all(start,i, mat_phe)\n",
    "    print(mat_phe)"
   ]
  },
  {
   "cell_type": "code",
   "execution_count": 13,
   "metadata": {},
   "outputs": [
    {
     "name": "stdout",
     "output_type": "stream",
     "text": [
      "pygame 1.9.6\n",
      "Hello from the pygame community. https://www.pygame.org/contribute.html\n"
     ]
    }
   ],
   "source": [
    "import pygame\n",
    "\n",
    "WHITE =     (255, 255, 255)\n",
    "BLUE =      (  0,   0, 255)\n",
    "GREEN =     (  0, 255,   0)\n",
    "RED =       (255,   0,   0)\n",
    "TEXTCOLOR = (  0,   0,  0)\n",
    "(width, height) = (200, 300)\n",
    "\n",
    "running = True"
   ]
  },
  {
   "cell_type": "code",
   "execution_count": 14,
   "metadata": {},
   "outputs": [],
   "source": [
    "def main():\n",
    "    global running, screen\n",
    "\n",
    "    pygame.init()\n",
    "    screen = pygame.display.set_mode((width, height))\n",
    "    pygame.display.set_caption(\"TUFF\")\n",
    "    screen.fill(WHITE)\n",
    "    pygame.display.update()\n",
    "\n",
    "    while running:\n",
    "        ev = pygame.event.get()\n",
    "\n",
    "        for event in ev:\n",
    "\n",
    "            if event.type == pygame.MOUSEBUTTONUP:\n",
    "                drawCircle()\n",
    "                pygame.display.update()\n",
    "\n",
    "            if event.type == pygame.QUIT:\n",
    "                running = False"
   ]
  },
  {
   "cell_type": "code",
   "execution_count": 15,
   "metadata": {},
   "outputs": [],
   "source": [
    "def getPos():\n",
    "    pos = pygame.mouse.get_pos()\n",
    "    return (pos)\n",
    "\n",
    "def drawCircle():\n",
    "    pos=getPos()\n",
    "    pygame.draw.circle(screen, BLUE, (30,30), 20)\n",
    "    pygame.draw.circle(screen, BLUE, (width - 30,30), 20)\n",
    "    pygame.draw.circle(screen, BLUE, (30,int(width/2)), 20)\n",
    "    pygame.draw.circle(screen, BLUE, (width - 30,int(width/2)), 20)\n",
    "    pygame.draw.circle(screen, GREEN, (int(width/2),height - 30), 20)\n",
    "def drawlines():\n",
    "    pygame.draw.line(screen, (0, 0, 255), (int(width/2),int(height/2)), (width - 30,height - 30))"
   ]
  },
  {
   "cell_type": "code",
   "execution_count": 16,
   "metadata": {},
   "outputs": [],
   "source": [
    "main()"
   ]
  },
  {
   "cell_type": "code",
   "execution_count": 30,
   "metadata": {},
   "outputs": [
    {
     "name": "stdout",
     "output_type": "stream",
     "text": [
      "[[0 5 4 5]\n",
      " [6 0 9 9]\n",
      " [4 9 0 6]\n",
      " [9 8 4 0]]\n"
     ]
    }
   ],
   "source": [
    "print(mat_dist)"
   ]
  },
  {
   "cell_type": "code",
   "execution_count": null,
   "metadata": {},
   "outputs": [],
   "source": []
  }
 ],
 "metadata": {
  "kernelspec": {
   "display_name": "Python 3",
   "language": "python",
   "name": "python3"
  },
  "language_info": {
   "codemirror_mode": {
    "name": "ipython",
    "version": 3
   },
   "file_extension": ".py",
   "mimetype": "text/x-python",
   "name": "python",
   "nbconvert_exporter": "python",
   "pygments_lexer": "ipython3",
   "version": "3.7.5"
  }
 },
 "nbformat": 4,
 "nbformat_minor": 2
}
